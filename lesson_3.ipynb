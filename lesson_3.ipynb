{
 "cells": [
  {
   "cell_type": "markdown",
   "source": [
    "\n",
    "\n",
    "```\n",
    "# Выбран кодовый формат\n",
    "```\n",
    "\n",
    "# Lesson 3. Python Basics (types and structures)."
   ],
   "metadata": {
    "collapsed": false,
    "id": "vRTTHs8rO4ks",
    "pycharm": {
     "name": "#%% md\n"
    }
   }
  },
  {
   "cell_type": "markdown",
   "source": [
    "## Математические операторы"
   ],
   "metadata": {
    "collapsed": false,
    "id": "Hxt-y-rDO4kw",
    "pycharm": {
     "name": "#%% md\n"
    }
   }
  },
  {
   "cell_type": "code",
   "execution_count": null,
   "outputs": [],
   "source": [
    "a = 5\n",
    "b = 7"
   ],
   "metadata": {
    "id": "Nj_TsCcLO4kw",
    "pycharm": {
     "name": "#%%\n"
    }
   }
  },
  {
   "cell_type": "code",
   "execution_count": null,
   "outputs": [
    {
     "name": "stdout",
     "output_type": "stream",
     "text": [
      "5 + 7 = 12\n",
      "5 - 7 = -2\n",
      "5 * 7 = 35\n",
      "5 / 7 = 0.7142857142857143\n",
      "5 // 7 = 0\n",
      "5 % 7 = 5\n",
      "2 ** 5 = 32\n"
     ]
    }
   ],
   "source": [
    "#\n",
    "c = a + b\n",
    "print(f\"{a} + {b} =\", c)\n",
    "\n",
    "#\n",
    "c = a - b\n",
    "print(f\"{a} - {b} =\", c)\n",
    "\n",
    "#\n",
    "c = a * b\n",
    "print(f\"{a} * {b} =\", c)\n",
    "\n",
    "#\n",
    "c = a / b\n",
    "print(f\"{a} / {b} =\", c)\n",
    "\n",
    "#\n",
    "c = a // b\n",
    "print(f\"{a} // {b} =\", c)\n",
    "\n",
    "#\n",
    "c = a % b\n",
    "print(f\"{a} % {b} =\", c)\n",
    "\n",
    "#\n",
    "c = 2 ** 5\n",
    "print(f\"2 ** 5 =\", c)"
   ],
   "metadata": {
    "id": "azz2d5aKO4kx",
    "outputId": "357db0b4-05e6-4a4f-f106-7446bd4f326a",
    "pycharm": {
     "name": "#%%\n"
    }
   }
  },
  {
   "cell_type": "code",
   "execution_count": null,
   "outputs": [],
   "source": [
    "a = 5\n",
    "b = 2\n",
    "c = 3"
   ],
   "metadata": {
    "id": "vZ2OPDyXO4ky",
    "pycharm": {
     "name": "#%%\n"
    }
   }
  },
  {
   "cell_type": "code",
   "source": [
    "a = 2\n",
    "for value in range(0, 5):\n",
    "  a *= 2\n",
    "a"
   ],
   "metadata": {
    "colab": {
     "base_uri": "https://localhost:8080/"
    },
    "id": "KqJCTFjHpKpy",
    "outputId": "669aa8ec-a083-4e71-fd13-9eb6530eac55",
    "pycharm": {
     "name": "#%%\n"
    }
   },
   "execution_count": 59,
   "outputs": [
    {
     "output_type": "stream",
     "name": "stdout",
     "text": [
      "0\n",
      "1\n",
      "2\n",
      "3\n",
      "4\n"
     ]
    },
    {
     "output_type": "execute_result",
     "data": {
      "text/plain": [
       "64"
      ]
     },
     "metadata": {},
     "execution_count": 59
    }
   ]
  },
  {
   "cell_type": "code",
   "execution_count": null,
   "outputs": [
    {
     "name": "stdout",
     "output_type": "stream",
     "text": [
      "5 + 2 * 3 = 11\n",
      "(5 + 2) * 3 = 21\n",
      "(5 + 2 + 3) / 2 = 5.0\n",
      "5 / 2 + 2 / 2 + 3 / 2 = 5.0\n",
      "5 * 2 ** 3 = 40\n",
      "5 * 2 % 3 = 1\n"
     ]
    }
   ],
   "source": [
    "d = a + b * c\n",
    "print(f\"{a} + {b} * {c} = {d}\")\n",
    "\n",
    "d = (a + b) * c\n",
    "print(f\"({a} + {b}) * {c} = {d}\")\n",
    "\n",
    "d = (a + b + c) / 2\n",
    "print(f\"({a} + {b} + {c}) / 2 = {d}\")\n",
    "\n",
    "d = a / 2 + b / 2 + c / 2\n",
    "print(f\"{a} / 2 + {b} / 2 + {c} / 2 = {d}\")\n",
    "\n",
    "d = a * b ** c\n",
    "print(f\"{a} * {b} ** {c} = {d}\")\n",
    "\n",
    "d = a * b % c\n",
    "print(f\"{a} * {b} % {c} = {d}\")"
   ],
   "metadata": {
    "id": "71d-_i2FO4kz",
    "outputId": "493d4238-1320-4dc2-ffa8-1e700b38afa5",
    "pycharm": {
     "name": "#%%\n"
    }
   }
  },
  {
   "cell_type": "markdown",
   "source": [
    "### Порядок выполнения операторов в выражениях\n",
    "\n",
    "1. ()\n",
    "2. **\n",
    "3. *, /, //, %\n",
    "4. +, -"
   ],
   "metadata": {
    "collapsed": false,
    "id": "cvOYc4ZGO4kz",
    "pycharm": {
     "name": "#%% md\n"
    }
   }
  },
  {
   "cell_type": "markdown",
   "source": [
    "## Логические операторы"
   ],
   "metadata": {
    "collapsed": false,
    "id": "627dx0huO4kz",
    "pycharm": {
     "name": "#%% md\n"
    }
   }
  },
  {
   "cell_type": "code",
   "execution_count": null,
   "outputs": [],
   "source": [
    "a = 10\n",
    "b = 5\n",
    "\n",
    "c = True\n",
    "d = False"
   ],
   "metadata": {
    "id": "U7DM7DtAO4k0",
    "pycharm": {
     "name": "#%%\n"
    }
   }
  },
  {
   "cell_type": "markdown",
   "source": [
    "AND - логическое \"И\"\n",
    "\n",
    "OR - логическое \"ИЛИ\"\n",
    "\n",
    "NOT - логическое отрицание"
   ],
   "metadata": {
    "collapsed": false,
    "id": "IDTxqo4GO4k0",
    "pycharm": {
     "name": "#%% md\n"
    }
   }
  },
  {
   "cell_type": "code",
   "execution_count": null,
   "outputs": [
    {
     "name": "stdout",
     "output_type": "stream",
     "text": [
      "True AND False = False\n",
      "True OR False == True\n",
      "\n",
      "True AND True = True\n",
      "True OR True = True\n",
      "\n",
      "False AND False = False\n",
      "False OR False = False\n",
      "\n",
      "NOT False = True\n",
      "True AND NOT False = True\n"
     ]
    }
   ],
   "source": [
    "print(f\"{c} AND {d} = {c and d}\")\n",
    "print(f\"{c} OR {d} == {c or d}\")\n",
    "\n",
    "print(f\"\\n{c} AND {c} = {c and c}\")\n",
    "print(f\"{c} OR {c} = {c or c}\")\n",
    "\n",
    "print(f\"\\n{d} AND {d} = {d and d}\")\n",
    "print(f\"{d} OR {d} = {d or d}\")\n",
    "\n",
    "print(f\"\\nNOT {d} = {not d}\")\n",
    "print(f\"{c} AND NOT {d} = {c and not d}\")"
   ],
   "metadata": {
    "id": "WqP5IbeyO4k0",
    "outputId": "309810a6-c66b-41e7-a85f-1f12d5b3ef6e",
    "pycharm": {
     "name": "#%%\n"
    }
   }
  },
  {
   "cell_type": "code",
   "execution_count": null,
   "outputs": [
    {
     "name": "stdout",
     "output_type": "stream",
     "text": [
      "10 > 5 = True\n",
      "10 < 5 = False\n",
      "10 == 5 * 2 = True\n",
      "10 <= 5 * 2 = True\n",
      "10 != 5 = True\n"
     ]
    }
   ],
   "source": [
    "print(f\"{a} > {b} = {a > b}\")\n",
    "print(f\"{a} < {b} = {a < b}\")\n",
    "print(f\"{a} == {b} * 2 = {a == b * 2}\")\n",
    "print(f\"{a} <= {b} * 2 = {a <= b*2}\")\n",
    "print(f\"{a} != {b} = {a != b}\")"
   ],
   "metadata": {
    "id": "dgfVWlWvO4k0",
    "outputId": "5cfedd8f-cd3a-422d-ca77-622f23532c48",
    "pycharm": {
     "name": "#%%\n"
    }
   }
  },
  {
   "cell_type": "code",
   "execution_count": null,
   "outputs": [
    {
     "name": "stdout",
     "output_type": "stream",
     "text": [
      "2 * (10 != 5) = 2\n",
      "2 * (10 == 5) = 0\n",
      "\n",
      "int(10 != 5) = 1\n",
      "int(10 == 5) = 0\n"
     ]
    }
   ],
   "source": [
    "print(f\"2 * ({a} != {b}) = {2 * (a != b)}\")\n",
    "print(f\"2 * ({a} == {b}) = {2 * (a == b)}\")\n",
    "\n",
    "print(f\"\\nint({a} != {b}) = {int(a != b)}\")\n",
    "print(f\"int({a} == {b}) = {int(a == b)}\")"
   ],
   "metadata": {
    "id": "MQm7dzR5O4k0",
    "outputId": "8331d2d8-d403-445c-c102-61aa6ef3d190",
    "pycharm": {
     "name": "#%%\n"
    }
   }
  },
  {
   "cell_type": "markdown",
   "source": [
    "## Коллекции"
   ],
   "metadata": {
    "collapsed": false,
    "id": "n_tlNfUTO4k1",
    "pycharm": {
     "name": "#%% md\n"
    }
   }
  },
  {
   "cell_type": "markdown",
   "source": [
    "![COLLECTIONS](collections.png)"
   ],
   "metadata": {
    "collapsed": false,
    "id": "IYOL89V2O4k1",
    "pycharm": {
     "name": "#%% md\n"
    }
   }
  },
  {
   "cell_type": "markdown",
   "source": [
    "### List"
   ],
   "metadata": {
    "collapsed": false,
    "id": "IPopjVxsO4k1",
    "pycharm": {
     "name": "#%% md\n"
    }
   }
  },
  {
   "cell_type": "code",
   "execution_count": 64,
   "outputs": [
    {
     "output_type": "stream",
     "name": "stdout",
     "text": [
      "<class 'list'> [1, 2, 3, 4, 5, 6]\n"
     ]
    }
   ],
   "source": [
    "a = [1, 2, 3, 4, 5, 6]\n",
    "print(type(a), a)"
   ],
   "metadata": {
    "id": "nLmYnvqnO4k1",
    "outputId": "ef5118c6-5705-4f51-bbc2-f1882e6b04cd",
    "colab": {
     "base_uri": "https://localhost:8080/"
    },
    "pycharm": {
     "name": "#%%\n"
    }
   }
  },
  {
   "cell_type": "code",
   "source": [
    "for value in a:\n",
    "  if value > 5:\n",
    "    print(value)"
   ],
   "metadata": {
    "colab": {
     "base_uri": "https://localhost:8080/"
    },
    "id": "mFzBXlYdqfAN",
    "outputId": "0651b435-2954-4640-d11c-b736a723fe6a",
    "pycharm": {
     "name": "#%%\n"
    }
   },
   "execution_count": 65,
   "outputs": [
    {
     "output_type": "stream",
     "name": "stdout",
     "text": [
      "6\n"
     ]
    }
   ]
  },
  {
   "cell_type": "code",
   "execution_count": null,
   "outputs": [
    {
     "name": "stdout",
     "output_type": "stream",
     "text": [
      "<class 'list'> [1, 2.0, '3', False]\n"
     ]
    }
   ],
   "source": [
    "a = [1, 2.0, \"3\", False]\n",
    "print(type(a), a)"
   ],
   "metadata": {
    "id": "ORj36jksO4k1",
    "outputId": "e5260f5e-4c28-4974-b24c-309d528c8abf",
    "pycharm": {
     "name": "#%%\n"
    }
   }
  },
  {
   "cell_type": "code",
   "execution_count": null,
   "outputs": [
    {
     "name": "stdout",
     "output_type": "stream",
     "text": [
      "[1, 20, '3', False]\n"
     ]
    }
   ],
   "source": [
    "# Изменяемость\n",
    "a[1] = 20\n",
    "print(a)"
   ],
   "metadata": {
    "id": "nLWEJnbZO4k1",
    "outputId": "e46dee96-5ca3-4f72-c8e9-4caf108966c6",
    "pycharm": {
     "name": "#%%\n"
    }
   }
  },
  {
   "cell_type": "code",
   "source": [
    "a[1] = float(a[1])\n",
    "a"
   ],
   "metadata": {
    "id": "o_uyHZdZTx2U",
    "pycharm": {
     "name": "#%%\n"
    }
   },
   "execution_count": null,
   "outputs": []
  },
  {
   "cell_type": "code",
   "execution_count": null,
   "outputs": [
    {
     "name": "stdout",
     "output_type": "stream",
     "text": [
      "Get element by index <2> from [1, 20, '3', False] = 3\n"
     ]
    }
   ],
   "source": [
    "# Индексированность\n",
    "index = 2\n",
    "print(f\"Get element by index <{index}> from {a} = {a[index]}\")"
   ],
   "metadata": {
    "id": "WGptMy26O4k1",
    "outputId": "2cd40390-c72b-478f-adba-31cae98b5ad5",
    "pycharm": {
     "name": "#%%\n"
    }
   }
  },
  {
   "cell_type": "code",
   "execution_count": null,
   "outputs": [
    {
     "data": {
      "text/plain": "[1, 1, 2, 2, 2]"
     },
     "execution_count": 47,
     "metadata": {},
     "output_type": "execute_result"
    }
   ],
   "source": [
    "# Уникальность\n",
    "a = [1, 1, 2, 2, 2]\n",
    "a"
   ],
   "metadata": {
    "id": "YXEVOVTdO4k2",
    "outputId": "58175fdf-06ff-42f7-e622-019e8e5e9c28",
    "pycharm": {
     "name": "#%%\n"
    }
   }
  },
  {
   "cell_type": "code",
   "source": [
    "a = [1, 2, 3, 4, 5, 5, 5]\n",
    "a.remove(5)\n",
    "a"
   ],
   "metadata": {
    "colab": {
     "base_uri": "https://localhost:8080/"
    },
    "id": "afsXfjOaUTAO",
    "outputId": "17639abb-34f2-4f94-b235-34826705f669",
    "pycharm": {
     "name": "#%%\n"
    }
   },
   "execution_count": 21,
   "outputs": [
    {
     "output_type": "execute_result",
     "data": {
      "text/plain": [
       "[1, 2, 3, 4, 5, 5]"
      ]
     },
     "metadata": {},
     "execution_count": 21
    }
   ]
  },
  {
   "cell_type": "code",
   "source": [
    "a.extend([6])\n",
    "a"
   ],
   "metadata": {
    "colab": {
     "base_uri": "https://localhost:8080/"
    },
    "id": "CJrC7PQvUWpl",
    "outputId": "177e43b3-c23f-47bc-f9b0-bb5e255f4d29",
    "pycharm": {
     "name": "#%%\n"
    }
   },
   "execution_count": 19,
   "outputs": [
    {
     "output_type": "execute_result",
     "data": {
      "text/plain": [
       "[1, 2, 3, 4, 5, [6, 7, 8, 9], [6], 6]"
      ]
     },
     "metadata": {},
     "execution_count": 19
    }
   ]
  },
  {
   "cell_type": "code",
   "execution_count": null,
   "outputs": [
    {
     "name": "stdout",
     "output_type": "stream",
     "text": [
      "List initialization: []\n",
      "Append an element to the list: [2]\n",
      "Clear the list: []\n",
      "Get element <3> index: 2\n",
      "Remove <3> element from the list: [1, 2, 4]\n",
      "Get number of element <2> from the list [1, 2, 2, 2, 3]: 3\n"
     ]
    }
   ],
   "source": [
    "# Базовые методы списка\n",
    "a = list()\n",
    "print(f\"List initialization: {a}\")\n",
    "\n",
    "a.append(2)\n",
    "print(f\"Append an element to the list: {a}\")\n",
    "\n",
    "# a.extend\n",
    "\n",
    "a.clear()\n",
    "print(f\"Clear the list: {a}\")\n",
    "\n",
    "a = [1, 2, 3, 4]\n",
    "print(f\"Get element <{3}> index: {a.index(3)}\")\n",
    "\n",
    "a.remove(3)\n",
    "print(f\"Remove <3> element from the list: {a}\")\n",
    "\n",
    "print(f\"Get number of element <2> from the list [1, 2, 2, 2, 3]: {[1, 2, 2, 2, 3].count(2)}\")"
   ],
   "metadata": {
    "id": "r_xHEFDxO4k2",
    "outputId": "007b8e30-c71c-4fdb-921d-a5541a75021d",
    "pycharm": {
     "name": "#%%\n"
    }
   }
  },
  {
   "cell_type": "markdown",
   "source": [
    "### Tuple"
   ],
   "metadata": {
    "collapsed": false,
    "id": "1fzLAb-8O4k2",
    "pycharm": {
     "name": "#%% md\n"
    }
   }
  },
  {
   "cell_type": "code",
   "execution_count": 22,
   "outputs": [
    {
     "output_type": "stream",
     "name": "stdout",
     "text": [
      "<class 'tuple'> (1, 2, 3)\n"
     ]
    }
   ],
   "source": [
    "a = (1, 2, 3)\n",
    "print(type(a), a)"
   ],
   "metadata": {
    "id": "efdO_G16O4k2",
    "outputId": "4abd6de6-7be7-499f-e3a3-6085c27f7ed5",
    "colab": {
     "base_uri": "https://localhost:8080/"
    },
    "pycharm": {
     "name": "#%%\n"
    }
   }
  },
  {
   "cell_type": "code",
   "execution_count": 25,
   "outputs": [
    {
     "output_type": "execute_result",
     "data": {
      "text/plain": [
       "3"
      ]
     },
     "metadata": {},
     "execution_count": 25
    }
   ],
   "source": [
    "a[2]"
   ],
   "metadata": {
    "id": "v9xA6xczO4k2",
    "outputId": "08fb21a3-5827-4575-f1e8-20cc284cc88d",
    "colab": {
     "base_uri": "https://localhost:8080/"
    },
    "pycharm": {
     "name": "#%%\n"
    }
   }
  },
  {
   "cell_type": "code",
   "execution_count": null,
   "outputs": [
    {
     "name": "stdout",
     "output_type": "stream",
     "text": [
      "Get element <3> index: 2\n"
     ]
    }
   ],
   "source": [
    "print(f\"Get element <{3}> index: {a.index(3)}\")"
   ],
   "metadata": {
    "id": "yIADbEFTO4k2",
    "outputId": "35fc9dea-13b9-4772-a43d-646b0ab039c0",
    "pycharm": {
     "name": "#%%\n"
    }
   }
  },
  {
   "cell_type": "markdown",
   "source": [
    "### String"
   ],
   "metadata": {
    "collapsed": false,
    "id": "F067h3qHO4k2",
    "pycharm": {
     "name": "#%% md\n"
    }
   }
  },
  {
   "cell_type": "code",
   "execution_count": 26,
   "outputs": [
    {
     "output_type": "error",
     "ename": "TypeError",
     "evalue": "'str' object does not support item assignment",
     "traceback": [
      "\u001B[0;31m---------------------------------------------------------------------------\u001B[0m",
      "\u001B[0;31mTypeError\u001B[0m                                 Traceback (most recent call last)",
      "\u001B[0;32m<ipython-input-26-2086be7d918f>\u001B[0m in \u001B[0;36m<cell line: 3>\u001B[0;34m()\u001B[0m\n\u001B[1;32m      1\u001B[0m \u001B[0ma\u001B[0m \u001B[0;34m=\u001B[0m \u001B[0;34m\"Hello, World!\"\u001B[0m\u001B[0;34m\u001B[0m\u001B[0;34m\u001B[0m\u001B[0m\n\u001B[1;32m      2\u001B[0m \u001B[0;34m\u001B[0m\u001B[0m\n\u001B[0;32m----> 3\u001B[0;31m \u001B[0ma\u001B[0m\u001B[0;34m[\u001B[0m\u001B[0;36m1\u001B[0m\u001B[0;34m]\u001B[0m \u001B[0;34m=\u001B[0m \u001B[0;34m\"i\"\u001B[0m\u001B[0;34m\u001B[0m\u001B[0;34m\u001B[0m\u001B[0m\n\u001B[0m",
      "\u001B[0;31mTypeError\u001B[0m: 'str' object does not support item assignment"
     ]
    }
   ],
   "source": [
    "a = \"Hello, World!\"\n",
    "\n",
    "a[1] = \"i\""
   ],
   "metadata": {
    "id": "7mYpPy0gO4k2",
    "outputId": "eb7b2a28-06f1-4669-e40e-586da7eccd55",
    "colab": {
     "base_uri": "https://localhost:8080/",
     "height": 214
    },
    "pycharm": {
     "name": "#%%\n"
    }
   }
  },
  {
   "cell_type": "code",
   "source": [
    "a[1]"
   ],
   "metadata": {
    "colab": {
     "base_uri": "https://localhost:8080/",
     "height": 35
    },
    "id": "cS0aOxH_WS2Z",
    "outputId": "ff9c253f-57fd-43ae-b756-8c3aa2ccecd0",
    "pycharm": {
     "name": "#%%\n"
    }
   },
   "execution_count": 27,
   "outputs": [
    {
     "output_type": "execute_result",
     "data": {
      "text/plain": [
       "'e'"
      ],
      "application/vnd.google.colaboratory.intrinsic+json": {
       "type": "string"
      }
     },
     "metadata": {},
     "execution_count": 27
    }
   ]
  },
  {
   "cell_type": "code",
   "execution_count": null,
   "outputs": [
    {
     "name": "stdout",
     "output_type": "stream",
     "text": [
      "Get 1st element from the string:  H\n"
     ]
    }
   ],
   "source": [
    "print(f\"Get 1st element from the string: \", a[0])"
   ],
   "metadata": {
    "id": "KL79APpqO4k2",
    "outputId": "bbac1d13-9773-423b-a419-6c4bc1be3fc3",
    "pycharm": {
     "name": "#%%\n"
    }
   }
  },
  {
   "cell_type": "code",
   "execution_count": 29,
   "outputs": [
    {
     "output_type": "execute_result",
     "data": {
      "text/plain": [
       "'Hllo, World!'"
      ],
      "application/vnd.google.colaboratory.intrinsic+json": {
       "type": "string"
      }
     },
     "metadata": {},
     "execution_count": 29
    }
   ],
   "source": [
    "a.replace(\"e\", \"\")"
   ],
   "metadata": {
    "id": "JX1I4i84O4k2",
    "outputId": "39805b78-acb1-4c08-e1a6-562ee2a9e30e",
    "colab": {
     "base_uri": "https://localhost:8080/",
     "height": 35
    },
    "pycharm": {
     "name": "#%%\n"
    }
   }
  },
  {
   "cell_type": "code",
   "execution_count": null,
   "outputs": [
    {
     "data": {
      "text/plain": "'Heppo, Worpd!'"
     },
     "execution_count": 65,
     "metadata": {},
     "output_type": "execute_result"
    }
   ],
   "source": [
    "a.replace(\"l\", \"p\")"
   ],
   "metadata": {
    "id": "Y_1KVsKvO4k3",
    "outputId": "1ce01160-ad81-4a07-eb35-3dc3a6bc47d5",
    "pycharm": {
     "name": "#%%\n"
    }
   }
  },
  {
   "cell_type": "code",
   "execution_count": null,
   "outputs": [
    {
     "data": {
      "text/plain": "3"
     },
     "execution_count": 67,
     "metadata": {},
     "output_type": "execute_result"
    }
   ],
   "source": [
    "a.count(\"l\")"
   ],
   "metadata": {
    "id": "T72jDVjDO4k3",
    "outputId": "ab9a55e9-6f8b-4a86-d72d-0cf70f445976",
    "pycharm": {
     "name": "#%%\n"
    }
   }
  },
  {
   "cell_type": "code",
   "source": [
    "len(a)"
   ],
   "metadata": {
    "colab": {
     "base_uri": "https://localhost:8080/"
    },
    "id": "iXjEomlZWmam",
    "outputId": "aabbac3e-ca87-4429-c649-877c751cd10b",
    "pycharm": {
     "name": "#%%\n"
    }
   },
   "execution_count": 28,
   "outputs": [
    {
     "output_type": "execute_result",
     "data": {
      "text/plain": [
       "13"
      ]
     },
     "metadata": {},
     "execution_count": 28
    }
   ]
  },
  {
   "cell_type": "code",
   "execution_count": null,
   "outputs": [
    {
     "data": {
      "text/plain": "'HELLO, WORLD!'"
     },
     "execution_count": 68,
     "metadata": {},
     "output_type": "execute_result"
    }
   ],
   "source": [
    "a.upper()"
   ],
   "metadata": {
    "id": "JX_kvn5TO4k3",
    "outputId": "0a0941ca-c282-49a2-8ccb-e6501342a4da",
    "pycharm": {
     "name": "#%%\n"
    }
   }
  },
  {
   "cell_type": "code",
   "execution_count": null,
   "outputs": [
    {
     "data": {
      "text/plain": "'hello, world!'"
     },
     "execution_count": 69,
     "metadata": {},
     "output_type": "execute_result"
    }
   ],
   "source": [
    "a.lower()"
   ],
   "metadata": {
    "id": "hxeaJZqVO4k3",
    "outputId": "21b84a7b-94eb-490a-9b5f-edfd0cef67c3",
    "pycharm": {
     "name": "#%%\n"
    }
   }
  },
  {
   "cell_type": "code",
   "execution_count": null,
   "outputs": [
    {
     "data": {
      "text/plain": "True"
     },
     "execution_count": 70,
     "metadata": {},
     "output_type": "execute_result"
    }
   ],
   "source": [
    "a.startswith(\"H\")"
   ],
   "metadata": {
    "id": "lErRrpkjO4k3",
    "outputId": "6cda75a4-f762-41ff-a9f2-27535a6eceb1",
    "pycharm": {
     "name": "#%%\n"
    }
   }
  },
  {
   "cell_type": "code",
   "execution_count": null,
   "outputs": [
    {
     "data": {
      "text/plain": "True"
     },
     "execution_count": 71,
     "metadata": {},
     "output_type": "execute_result"
    }
   ],
   "source": [
    "a.endswith(\"!\")"
   ],
   "metadata": {
    "id": "7gNx6bVnO4k3",
    "outputId": "b9489a13-c7e3-4d58-ba0e-7d4c0b8933ef",
    "pycharm": {
     "name": "#%%\n"
    }
   }
  },
  {
   "cell_type": "markdown",
   "source": [
    "### Set"
   ],
   "metadata": {
    "collapsed": false,
    "id": "4V5EoRT7O4k3",
    "pycharm": {
     "name": "#%% md\n"
    }
   }
  },
  {
   "cell_type": "code",
   "execution_count": 30,
   "outputs": [
    {
     "output_type": "stream",
     "name": "stdout",
     "text": [
      "<class 'set'> {1, 2, 3}\n"
     ]
    }
   ],
   "source": [
    "a = {1, 2, 3}\n",
    "print(type(a), a)"
   ],
   "metadata": {
    "id": "kL2NeuNLO4k3",
    "outputId": "4eaab0d0-9ab6-4d5c-fbf6-70271ed1c3b5",
    "colab": {
     "base_uri": "https://localhost:8080/"
    },
    "pycharm": {
     "name": "#%%\n"
    }
   }
  },
  {
   "cell_type": "code",
   "execution_count": 31,
   "outputs": [
    {
     "output_type": "error",
     "ename": "TypeError",
     "evalue": "'set' object is not subscriptable",
     "traceback": [
      "\u001B[0;31m---------------------------------------------------------------------------\u001B[0m",
      "\u001B[0;31mTypeError\u001B[0m                                 Traceback (most recent call last)",
      "\u001B[0;32m<ipython-input-31-8bc71255a22e>\u001B[0m in \u001B[0;36m<cell line: 1>\u001B[0;34m()\u001B[0m\n\u001B[0;32m----> 1\u001B[0;31m \u001B[0ma\u001B[0m\u001B[0;34m[\u001B[0m\u001B[0;36m1\u001B[0m\u001B[0;34m]\u001B[0m\u001B[0;34m\u001B[0m\u001B[0;34m\u001B[0m\u001B[0m\n\u001B[0m",
      "\u001B[0;31mTypeError\u001B[0m: 'set' object is not subscriptable"
     ]
    }
   ],
   "source": [
    "a[1]"
   ],
   "metadata": {
    "id": "lXoLSfyFO4k3",
    "outputId": "593b4428-e37d-481c-c591-d53775a8904d",
    "colab": {
     "base_uri": "https://localhost:8080/",
     "height": 179
    },
    "pycharm": {
     "name": "#%%\n"
    }
   }
  },
  {
   "cell_type": "code",
   "execution_count": null,
   "outputs": [
    {
     "name": "stdout",
     "output_type": "stream",
     "text": [
      "{1, 2, 3}\n"
     ]
    }
   ],
   "source": [
    "a = {1, 2, 2, 3}\n",
    "print(a)"
   ],
   "metadata": {
    "id": "Rc4k2VZvO4k8",
    "outputId": "f562c136-15ee-44a5-ebee-b9339ec5e78f",
    "pycharm": {
     "name": "#%%\n"
    }
   }
  },
  {
   "cell_type": "code",
   "source": [],
   "metadata": {
    "id": "saCuuUuUXPVE",
    "pycharm": {
     "name": "#%%\n"
    }
   },
   "execution_count": null,
   "outputs": []
  },
  {
   "cell_type": "code",
   "execution_count": null,
   "outputs": [
    {
     "data": {
      "text/plain": "{1, 2, 3, 4}"
     },
     "execution_count": 75,
     "metadata": {},
     "output_type": "execute_result"
    }
   ],
   "source": [
    "a.add(4)\n",
    "a"
   ],
   "metadata": {
    "id": "SeJKxNTzO4k8",
    "outputId": "2be9aabe-3709-46dd-e8f7-878ee6f8ffaf",
    "pycharm": {
     "name": "#%%\n"
    }
   }
  },
  {
   "cell_type": "code",
   "execution_count": null,
   "outputs": [
    {
     "name": "stdout",
     "output_type": "stream",
     "text": [
      "{1, 2, 3}\n"
     ]
    }
   ],
   "source": [
    "a.remove(4)\n",
    "print(a)"
   ],
   "metadata": {
    "id": "jJOwVIZ5O4k9",
    "outputId": "ed886b25-850e-4d1a-f1cf-2b8564bb1378",
    "pycharm": {
     "name": "#%%\n"
    }
   }
  },
  {
   "cell_type": "markdown",
   "source": [
    "### Dict"
   ],
   "metadata": {
    "collapsed": false,
    "id": "WCjKI2seO4k-",
    "pycharm": {
     "name": "#%% md\n"
    }
   }
  },
  {
   "cell_type": "code",
   "execution_count": 33,
   "outputs": [
    {
     "output_type": "stream",
     "name": "stdout",
     "text": [
      "<class 'dict'> {'a': 1, 'b': 2, 'c': 3}\n"
     ]
    }
   ],
   "source": [
    "a = {\"a\": 1, \"b\": 2, \"c\": 3}\n",
    "print(type(a), a)"
   ],
   "metadata": {
    "id": "JcHmngZ7O4k-",
    "outputId": "7b433796-e784-4980-ae6e-59a07de21d63",
    "colab": {
     "base_uri": "https://localhost:8080/"
    },
    "pycharm": {
     "name": "#%%\n"
    }
   }
  },
  {
   "cell_type": "code",
   "execution_count": 34,
   "outputs": [
    {
     "output_type": "stream",
     "name": "stdout",
     "text": [
      "a\n",
      "b\n",
      "c\n"
     ]
    }
   ],
   "source": [
    "for key in a.keys(): print(key)"
   ],
   "metadata": {
    "id": "jGsBMPu3O4k-",
    "outputId": "9628c072-cc45-4306-8094-470d1ed8bebb",
    "colab": {
     "base_uri": "https://localhost:8080/"
    },
    "pycharm": {
     "name": "#%%\n"
    }
   }
  },
  {
   "cell_type": "code",
   "execution_count": null,
   "outputs": [
    {
     "data": {
      "text/plain": "dict_values([1, 2, 3])"
     },
     "execution_count": 84,
     "metadata": {},
     "output_type": "execute_result"
    }
   ],
   "source": [
    "a.values()"
   ],
   "metadata": {
    "id": "iy02Z6KQO4k-",
    "outputId": "bc61c18f-c1d3-41fe-d2ae-6d374b0724c4",
    "pycharm": {
     "name": "#%%\n"
    }
   }
  },
  {
   "cell_type": "code",
   "execution_count": null,
   "outputs": [
    {
     "data": {
      "text/plain": "2"
     },
     "execution_count": 85,
     "metadata": {},
     "output_type": "execute_result"
    }
   ],
   "source": [
    "a[\"b\"]"
   ],
   "metadata": {
    "id": "hJS21JWoO4k-",
    "outputId": "8f523180-1c55-496d-d2b3-2cc5f5cdf78d",
    "pycharm": {
     "name": "#%%\n"
    }
   }
  },
  {
   "cell_type": "code",
   "execution_count": null,
   "outputs": [
    {
     "data": {
      "text/plain": "{'a': 1, 'b': 3, 'c': 3}"
     },
     "execution_count": 86,
     "metadata": {},
     "output_type": "execute_result"
    }
   ],
   "source": [
    "a[\"b\"] = 3\n",
    "a"
   ],
   "metadata": {
    "id": "qA_WmaEFO4k-",
    "outputId": "526c77b7-9f5d-4cd1-ca12-3c163d9b0d54",
    "pycharm": {
     "name": "#%%\n"
    }
   }
  },
  {
   "cell_type": "code",
   "execution_count": null,
   "outputs": [],
   "source": [],
   "metadata": {
    "id": "bxCrKmfGO4k-",
    "pycharm": {
     "name": "#%%\n"
    }
   }
  },
  {
   "cell_type": "code",
   "source": [
    "flag = False\n",
    "if flag:\n",
    "  print(\"Hello\")"
   ],
   "metadata": {
    "id": "DmmJrdbmfqyf",
    "pycharm": {
     "name": "#%%\n"
    }
   },
   "execution_count": 40,
   "outputs": []
  },
  {
   "cell_type": "code",
   "source": [],
   "metadata": {
    "colab": {
     "base_uri": "https://localhost:8080/"
    },
    "id": "ai6SF2LFfzth",
    "outputId": "f53dae91-68f6-4d7a-dab1-c0842a9217b1",
    "pycharm": {
     "name": "#%%\n"
    }
   },
   "execution_count": 49,
   "outputs": [
    {
     "output_type": "stream",
     "name": "stdout",
     "text": [
      "a < 10\n"
     ]
    }
   ]
  },
  {
   "cell_type": "code",
   "source": [],
   "metadata": {
    "id": "PM5HOTuNgEYP",
    "pycharm": {
     "name": "#%%\n"
    }
   },
   "execution_count": null,
   "outputs": []
  },
  {
   "cell_type": "markdown",
   "source": [
    "### Исключения"
   ],
   "metadata": {
    "collapsed": false,
    "id": "jzNOAr9qO4k9",
    "pycharm": {
     "name": "#%% md\n"
    }
   }
  },
  {
   "cell_type": "code",
   "source": [
    "print(x)"
   ],
   "metadata": {
    "colab": {
     "base_uri": "https://localhost:8080/",
     "height": 179
    },
    "id": "p4f6_uwe-ghW",
    "outputId": "c711d3ea-5cf4-4c77-c4da-267c40cc85a1",
    "pycharm": {
     "name": "#%%\n"
    }
   },
   "execution_count": 50,
   "outputs": [
    {
     "output_type": "error",
     "ename": "NameError",
     "evalue": "name 'x' is not defined",
     "traceback": [
      "\u001B[0;31m---------------------------------------------------------------------------\u001B[0m",
      "\u001B[0;31mNameError\u001B[0m                                 Traceback (most recent call last)",
      "\u001B[0;32m<ipython-input-50-fc17d851ef81>\u001B[0m in \u001B[0;36m<cell line: 1>\u001B[0;34m()\u001B[0m\n\u001B[0;32m----> 1\u001B[0;31m \u001B[0mprint\u001B[0m\u001B[0;34m(\u001B[0m\u001B[0mx\u001B[0m\u001B[0;34m)\u001B[0m\u001B[0;34m\u001B[0m\u001B[0;34m\u001B[0m\u001B[0m\n\u001B[0m",
      "\u001B[0;31mNameError\u001B[0m: name 'x' is not defined"
     ]
    }
   ]
  },
  {
   "cell_type": "code",
   "source": [
    "try:\n",
    "  print(x)\n",
    "  print(1)\n",
    "except:\n",
    "  print(\"exception\")"
   ],
   "metadata": {
    "colab": {
     "base_uri": "https://localhost:8080/"
    },
    "id": "Rd-EYz4R4dAi",
    "outputId": "29f34fdf-42d3-4588-d7ea-a6cfd64ff3ac",
    "pycharm": {
     "name": "#%%\n"
    }
   },
   "execution_count": 52,
   "outputs": [
    {
     "output_type": "stream",
     "name": "stdout",
     "text": [
      "exception\n"
     ]
    }
   ]
  },
  {
   "cell_type": "code",
   "source": [
    "try:\n",
    "  print(6 / 0)\n",
    "except NameError:\n",
    "  print(\"Variable x is not defined\")\n",
    "except:\n",
    "  print(\"Something else went wrong\")"
   ],
   "metadata": {
    "colab": {
     "base_uri": "https://localhost:8080/"
    },
    "id": "N8qWPMv746s-",
    "outputId": "908b70e1-3c1f-479d-fe9d-e8bc765107b1",
    "pycharm": {
     "name": "#%%\n"
    }
   },
   "execution_count": 53,
   "outputs": [
    {
     "output_type": "stream",
     "name": "stdout",
     "text": [
      "Something else went wrong\n"
     ]
    }
   ]
  },
  {
   "cell_type": "code",
   "source": [
    "try:\n",
    "  print(\"Hello\")\n",
    "except:\n",
    "  print(\"Something went wrong\")\n",
    "else:\n",
    "  print(\"Nothing went wrong\")\n"
   ],
   "metadata": {
    "colab": {
     "base_uri": "https://localhost:8080/"
    },
    "id": "U8HxWVfj461R",
    "outputId": "a1026a05-0450-433e-a254-0ee0ac7a6ccd",
    "pycharm": {
     "name": "#%%\n"
    }
   },
   "execution_count": 54,
   "outputs": [
    {
     "output_type": "stream",
     "name": "stdout",
     "text": [
      "Hello\n",
      "Nothing went wrong\n"
     ]
    }
   ]
  },
  {
   "cell_type": "code",
   "source": [
    "try:\n",
    "  print(\"Hello\")\n",
    "except:\n",
    "  print(\"Something went wrong\")\n",
    "else:\n",
    "  print(\"Nothing went wrong\")\n",
    "finally:\n",
    "  print(\"The 'try except' is finished\")"
   ],
   "metadata": {
    "colab": {
     "base_uri": "https://localhost:8080/"
    },
    "id": "GdE6N-pY-sdR",
    "outputId": "ffbf0db3-fb79-481e-a2da-e5222becdd28",
    "pycharm": {
     "name": "#%%\n"
    }
   },
   "execution_count": 7,
   "outputs": [
    {
     "output_type": "stream",
     "name": "stdout",
     "text": [
      "Hello\n",
      "Nothing went wrong\n",
      "The 'try except' is finished\n"
     ]
    }
   ]
  },
  {
   "cell_type": "code",
   "source": [
    "try:\n",
    "  print(x)\n",
    "except:\n",
    "  print(\"Something went wrong\")\n",
    "finally:\n",
    "  print(\"The 'try except' is finished\")"
   ],
   "metadata": {
    "colab": {
     "base_uri": "https://localhost:8080/"
    },
    "id": "JcY99dKO84s0",
    "outputId": "9d75d8f9-70b0-45a4-b243-20d3d1fa6a57",
    "pycharm": {
     "name": "#%%\n"
    }
   },
   "execution_count": 5,
   "outputs": [
    {
     "output_type": "stream",
     "name": "stdout",
     "text": [
      "Something went wrong\n",
      "The 'try except' is finished\n"
     ]
    }
   ]
  },
  {
   "cell_type": "code",
   "source": [
    "6 / 0"
   ],
   "metadata": {
    "colab": {
     "base_uri": "https://localhost:8080/",
     "height": 179
    },
    "id": "mI7lsiEknrev",
    "outputId": "ac1c0edd-a6d6-453b-d1e9-9fc97934dcbd",
    "pycharm": {
     "name": "#%%\n"
    }
   },
   "execution_count": 55,
   "outputs": [
    {
     "output_type": "error",
     "ename": "ZeroDivisionError",
     "evalue": "division by zero",
     "traceback": [
      "\u001B[0;31m---------------------------------------------------------------------------\u001B[0m",
      "\u001B[0;31mZeroDivisionError\u001B[0m                         Traceback (most recent call last)",
      "\u001B[0;32m<ipython-input-55-35ab704efce5>\u001B[0m in \u001B[0;36m<cell line: 1>\u001B[0;34m()\u001B[0m\n\u001B[0;32m----> 1\u001B[0;31m \u001B[0;36m6\u001B[0m \u001B[0;34m/\u001B[0m \u001B[0;36m0\u001B[0m\u001B[0;34m\u001B[0m\u001B[0;34m\u001B[0m\u001B[0m\n\u001B[0m",
      "\u001B[0;31mZeroDivisionError\u001B[0m: division by zero"
     ]
    }
   ]
  },
  {
   "cell_type": "code",
   "source": [
    "try:\n",
    "  print(6 / 0)\n",
    "except NameError:\n",
    "  print('except')\n",
    "else:\n",
    "  print('else')"
   ],
   "metadata": {
    "id": "vD_a1RJonJ8X",
    "pycharm": {
     "name": "#%%\n"
    }
   },
   "execution_count": null,
   "outputs": []
  },
  {
   "cell_type": "code",
   "source": [],
   "metadata": {
    "id": "9wXVYf5KpGdO",
    "pycharm": {
     "name": "#%%\n"
    }
   },
   "execution_count": null,
   "outputs": []
  },
  {
   "cell_type": "markdown",
   "source": [
    "# Лекарство от скуки *(домашка)*"
   ],
   "metadata": {
    "collapsed": false,
    "id": "ORu96yioO4k-",
    "pycharm": {
     "name": "#%% md\n"
    }
   }
  },
  {
   "cell_type": "markdown",
   "source": [
    "Разобрать пройденные темы.\n",
    "\n",
    "Просмотреть и опробовать различные методы коллекций (особенно строк).\n",
    "\n",
    "Найти ответы:\n",
    "\n",
    "- Что можно использовать в качестве ключей в словаре. Привести примеры.\n",
    "- Строки неизменяемые. Но как тогда работает метод replace?"
   ],
   "metadata": {
    "collapsed": false,
    "id": "C8F3V_cZO4k-",
    "pycharm": {
     "name": "#%% md\n"
    }
   }
  },
  {
   "cell_type": "code",
   "execution_count": null,
   "outputs": [],
   "source": [],
   "metadata": {
    "id": "IUXmG2NgO4k-",
    "pycharm": {
     "name": "#%%\n"
    }
   }
  }
 ],
 "metadata": {
  "kernelspec": {
   "display_name": "Python 3",
   "language": "python",
   "name": "python3"
  },
  "language_info": {
   "codemirror_mode": {
    "name": "ipython",
    "version": 2
   },
   "file_extension": ".py",
   "mimetype": "text/x-python",
   "name": "python",
   "nbconvert_exporter": "python",
   "pygments_lexer": "ipython2",
   "version": "2.7.6"
  },
  "colab": {
   "provenance": []
  }
 },
 "nbformat": 4,
 "nbformat_minor": 0
}